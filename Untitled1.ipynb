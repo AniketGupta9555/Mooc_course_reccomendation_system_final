{
 "cells": [
  {
   "cell_type": "code",
   "execution_count": 8,
   "id": "c8e5f5d7-cd7a-4140-9f07-d5d1de19fb2d",
   "metadata": {},
   "outputs": [
    {
     "name": "stderr",
     "output_type": "stream",
     "text": [
      "C:\\Users\\anike\\AppData\\Local\\Programs\\Python\\Python312\\Lib\\site-packages\\sklearn\\base.py:493: UserWarning: X does not have valid feature names, but NearestNeighbors was fitted with feature names\n",
      "  warnings.warn(\n",
      "C:\\Users\\anike\\AppData\\Local\\Programs\\Python\\Python312\\Lib\\site-packages\\sklearn\\metrics\\pairwise.py:2361: DataConversionWarning: Data was converted to boolean for metric jaccard\n",
      "  warnings.warn(msg, DataConversionWarning)\n"
     ]
    },
    {
     "name": "stdout",
     "output_type": "stream",
     "text": [
      "Top 10 recommended courses for user U00001:\n",
      "1. Analyzing Big Data with SQL\n",
      "2. Analyze NPS Survey Data in Google Sheets\n",
      "3. Excel Basics for Data Analysis\n",
      "4. Competitive Programmer's Core Skills\n",
      "5. Understanding Deepfakes with Keras\n",
      "6. 000 Women\n",
      "7. Technical Writing\n",
      "8. Business Application of Machine Learning and Artificial Intelligence in Healthcare\n",
      "9. Analyzing Video with OpenCV and NumPy\n",
      "10. Understanding Korean Politics\n"
     ]
    }
   ],
   "source": [
    "import pandas as pd\n",
    "import numpy as np\n",
    "from sklearn.neighbors import NearestNeighbors\n",
    "\n",
    "# Step 1: Load the dataset\n",
    "df = pd.read_csv(\"moocuserfinal.csv\")\n",
    "\n",
    "# Step 2: Clean course history into lists\n",
    "df[\"Previous Learning History (Courses Completed)\"] = df[\"Previous Learning History (Courses Completed)\"].fillna(\"\")\n",
    "df[\"Previous Learning History (Courses Completed)\"] = df[\"Previous Learning History (Courses Completed)\"].apply(lambda x: [i.strip() for i in x.split(\",\") if i.strip()])\n",
    "\n",
    "# Step 3: Get all unique courses\n",
    "all_courses = sorted(set(course for sublist in df[\"Previous Learning History (Courses Completed)\"] for course in sublist))\n",
    "\n",
    "# Step 4: Create user-course interaction matrix\n",
    "user_course_matrix = pd.DataFrame(0, index=df[\"User_ID\"].unique(), columns=all_courses)\n",
    "\n",
    "# Step 5: Fill matrix safely\n",
    "for i, row in df.iterrows():\n",
    "    user_id = row[\"User_ID\"]\n",
    "    for course in row[\"Previous Learning History (Courses Completed)\"]:\n",
    "        if course in user_course_matrix.columns:\n",
    "            user_course_matrix.at[user_id, course] = 1\n",
    "\n",
    "# Step 6: Fit NearestNeighbors model\n",
    "model = NearestNeighbors(metric='jaccard', algorithm='brute')\n",
    "model.fit(user_course_matrix)\n",
    "\n",
    "# Step 7: Choose a target user\n",
    "target_user_id = df[\"User_ID\"].iloc[0]  # Can change this to test others\n",
    "target_vector = user_course_matrix.loc[target_user_id].values.reshape(1, -1)\n",
    "\n",
    "# Step 8: Find 100 nearest neighbors (excluding self)\n",
    "distances, indices = model.kneighbors(target_vector, n_neighbors=101)\n",
    "neighbor_indices = indices.flatten()[1:]  # exclude self\n",
    "\n",
    "# Step 9: Aggregate neighbor course completions\n",
    "neighbors = user_course_matrix.iloc[neighbor_indices]\n",
    "neighbor_courses_sum = neighbors.sum(axis=0)\n",
    "\n",
    "# Step 10: Recommend courses not already taken\n",
    "user_courses = user_course_matrix.loc[target_user_id]\n",
    "unseen_courses = neighbor_courses_sum[user_courses == 0]\n",
    "\n",
    "# Step 11: Get Top 10 Recommendations\n",
    "recommended_courses = unseen_courses.sort_values(ascending=False).head(10).index.tolist()\n",
    "\n",
    "# Output\n",
    "print(f\"Top 10 recommended courses for user {target_user_id}:\")\n",
    "for i, course in enumerate(recommended_courses, 1):\n",
    "    print(f\"{i}. {course}\")\n"
   ]
  },
  {
   "cell_type": "code",
   "execution_count": 7,
   "id": "795cceea-52cb-4667-a2ca-0a261e2bd7b1",
   "metadata": {},
   "outputs": [],
   "source": [
    "import pandas as pd\n",
    "\n",
    "# Read the CSV file\n",
    "df = pd.read_csv('moocuser.csv')\n",
    "\n",
    "# Keep only the first 10,000 rows\n",
    "df = df.head(10000)\n",
    "\n",
    "# Save the updated dataframe back to a new CSV file\n",
    "df.to_csv('moocuserfinal.csv', index=False)\n"
   ]
  },
  {
   "cell_type": "code",
   "execution_count": null,
   "id": "d512b2d8-7026-4e4a-9d08-259504ba09ab",
   "metadata": {},
   "outputs": [],
   "source": []
  }
 ],
 "metadata": {
  "kernelspec": {
   "display_name": "Python 3 (ipykernel)",
   "language": "python",
   "name": "python3"
  },
  "language_info": {
   "codemirror_mode": {
    "name": "ipython",
    "version": 3
   },
   "file_extension": ".py",
   "mimetype": "text/x-python",
   "name": "python",
   "nbconvert_exporter": "python",
   "pygments_lexer": "ipython3",
   "version": "3.12.6"
  }
 },
 "nbformat": 4,
 "nbformat_minor": 5
}
