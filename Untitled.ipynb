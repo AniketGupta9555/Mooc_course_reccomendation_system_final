{
 "cells": [
  {
   "cell_type": "code",
   "execution_count": 7,
   "id": "10e1dadb-4fcf-499c-bfd1-125c658c5095",
   "metadata": {},
   "outputs": [
    {
     "name": "stdout",
     "output_type": "stream",
     "text": [
      "✅ Dataset created without faker.\n"
     ]
    }
   ],
   "source": [
    "import pandas as pd\n",
    "import random\n",
    "import string\n",
    "\n",
    "# Load filtered MOOC course dataset\n",
    "df = pd.read_csv(\"MOOC.csv\")  # adjust path if needed\n",
    "\n",
    "# Filter relevant courses (CSE/IT/ML/Python)\n",
    "keywords = [\"computer\", \"cse\", \"it\", \"machine learning\", \"ml\", \"python\", \"programming\", \"data\", \"ai\", \"neural\", \"deep\"]\n",
    "df_filtered = df[df[\"Course Name\"].str.lower().str.contains('|'.join(keywords), na=False)]\n",
    "\n",
    "# Prepare lists\n",
    "course_titles = df_filtered[\"Course Name\"].dropna().unique().tolist()\n",
    "all_skills = df_filtered[\"all_skill\"].dropna().unique().tolist()\n",
    "\n",
    "# Static data\n",
    "occupations = [\"Student\", \"Software Engineer\", \"Data Scientist\", \"IT Professional\", \"Researcher\"]\n",
    "countries = [\"India\", \"USA\", \"Canada\", \"Germany\", \"UK\", \"Australia\"]\n",
    "difficulty_levels = [\"Beginner\", \"Intermediate\", \"Advanced\"]\n",
    "engagement_levels = [\"High\", \"Medium\", \"Low\"]\n",
    "\n",
    "# Helper: generate random name\n",
    "def generate_name():\n",
    "    first = ''.join(random.choices(string.ascii_uppercase, k=1)) + ''.join(random.choices(string.ascii_lowercase, k=random.randint(3,6)))\n",
    "    last = ''.join(random.choices(string.ascii_uppercase, k=1)) + ''.join(random.choices(string.ascii_lowercase, k=random.randint(4,7)))\n",
    "    return f\"{first} {last}\"\n",
    "\n",
    "# Helper: generate email\n",
    "def generate_email(name):\n",
    "    user = name.lower().replace(\" \", \".\")\n",
    "    domain = random.choice([\"gmail.com\", \"yahoo.com\", \"outlook.com\"])\n",
    "    return f\"{user}{random.randint(100,999)}@{domain}\"\n",
    "\n",
    "# Create dataset\n",
    "users = []\n",
    "\n",
    "for i in range(1, 100001):\n",
    "    name = generate_name()\n",
    "    email = generate_email(name)\n",
    "    occupation = random.choice(occupations)\n",
    "    difficulty = random.choice(difficulty_levels)\n",
    "    country = random.choice(countries)\n",
    "    freq = random.randint(1, 10)\n",
    "    engagement = random.choice(engagement_levels)\n",
    "\n",
    "    topics = random.sample(course_titles, k=3) if len(course_titles) >= 3 else course_titles\n",
    "    skills = random.choice(all_skills).split()[:5] if all_skills else [\"Python\"]\n",
    "    completed = random.sample(course_titles, k=10) if len(course_titles) >= 10 else course_titles\n",
    "    clicks = random.sample(course_titles, k=3) if len(course_titles) >= 3 else course_titles\n",
    "\n",
    "    users.append({\n",
    "        \"User_ID\": f\"U{i:05}\",\n",
    "        \"Name\": name,\n",
    "        \"Email_ID\": email,\n",
    "        \"Occupation\": occupation,\n",
    "        \"Preferred Difficulty Level\": difficulty,\n",
    "        \"Preferred Topics\": \", \".join(topics),\n",
    "        \"Learning Goals\": f\"To improve knowledge in {random.choice(['AI', 'Python', 'Data Science', 'Programming', 'Software Development'])}\",\n",
    "        \"Previous Learning History (Courses Completed)\": \", \".join(completed),\n",
    "        \"Skills Acquired\": \", \".join(skills),\n",
    "        \"Click History (Top 3 Courses Clicked)\": \", \".join(clicks),\n",
    "        \"Engagement Level\": engagement,\n",
    "        \"Learning Frequency (Courses per Month)\": freq,\n",
    "        \"Country\": country\n",
    "    })\n",
    "\n",
    "# Save to CSV\n",
    "user_df = pd.DataFrame(users)\n",
    "user_df.to_csv(\"synthetic_mooc_user_dataset_10000.csv\", index=False)\n",
    "\n",
    "print(\"✅ Dataset created without faker.\")\n"
   ]
  },
  {
   "cell_type": "code",
   "execution_count": null,
   "id": "fa48f37d-b8c0-4f8f-9683-4113b1948ab3",
   "metadata": {},
   "outputs": [],
   "source": []
  }
 ],
 "metadata": {
  "kernelspec": {
   "display_name": "Python 3 (ipykernel)",
   "language": "python",
   "name": "python3"
  },
  "language_info": {
   "codemirror_mode": {
    "name": "ipython",
    "version": 3
   },
   "file_extension": ".py",
   "mimetype": "text/x-python",
   "name": "python",
   "nbconvert_exporter": "python",
   "pygments_lexer": "ipython3",
   "version": "3.12.6"
  }
 },
 "nbformat": 4,
 "nbformat_minor": 5
}
